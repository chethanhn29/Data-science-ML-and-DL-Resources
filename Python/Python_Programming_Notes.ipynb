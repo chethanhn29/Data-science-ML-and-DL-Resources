{
  "nbformat": 4,
  "nbformat_minor": 0,
  "metadata": {
    "colab": {
      "provenance": [],
      "toc_visible": true
    },
    "kernelspec": {
      "name": "python3",
      "display_name": "Python 3"
    },
    "language_info": {
      "name": "python"
    }
  },
  "cells": [
    {
      "cell_type": "markdown",
      "source": [
        "# **Python Programming Notes**  \n",
        "\n",
        "## **1. Programming Paradigms**  \n",
        "\n",
        "### **a) Functional Programming**  \n",
        "- Emphasizes **pure functions** (no side effects).  \n",
        "- Uses **higher-order functions** and **immutability**.  \n",
        "- Functions are treated as **first-class citizens** (can be assigned to variables, passed as arguments).  \n",
        "- Common functional programming concepts: **map, filter, reduce, lambda functions, recursion**.  \n",
        "\n",
        "### **b) Procedural Programming**  \n",
        "- Follows a **step-by-step** approach.  \n",
        "- Uses **procedures (functions)** to structure the program.  \n",
        "- Focuses on **how** tasks are performed (sequential execution).  \n",
        "- Examples: C, Pascal, early Python scripts.  \n",
        "\n",
        "### **c) Object-Oriented Programming (OOPs)**  \n",
        "- Organizes code into **objects** (instances of classes).  \n",
        "- Uses principles like **Encapsulation, Abstraction, Inheritance, Polymorphism**.  \n",
        "- Helps in **code reusability, modularity, and scalability**.  \n",
        "- Common OOP concepts: **classes, objects, methods, attributes, constructors, inheritance**.  \n",
        "\n",
        "---\n",
        "\n",
        "## **2. Python Features: *args, **kwargs, Type Hints, and Docstrings**  \n",
        "\n",
        "### **a) *args (Arbitrary Positional Arguments)**  \n",
        "- Allows a function to accept any number of **positional arguments**.  \n",
        "- The arguments are collected into a **tuple**.  \n",
        "- Useful when the number of inputs is **unknown**.  "
      ],
      "metadata": {
        "id": "rEigZEPjMNkk"
      }
    },
    {
      "cell_type": "code",
      "source": [
        "def sum_all(*args):\n",
        "    total = sum(args)\n",
        "    return total\n",
        "\n",
        "print(sum_all(1, 2, 3))        # Output: 6\n",
        "print(sum_all(1, 2, 3, 4, 5))  # Output: 15"
      ],
      "metadata": {
        "colab": {
          "base_uri": "https://localhost:8080/"
        },
        "id": "WJEapZrvMVOX",
        "outputId": "51834b7e-d821-4710-9ec9-7b7128b8525c"
      },
      "execution_count": null,
      "outputs": [
        {
          "output_type": "stream",
          "name": "stdout",
          "text": [
            "6\n",
            "15\n"
          ]
        }
      ]
    },
    {
      "cell_type": "markdown",
      "source": [
        "### **b) **kwargs (Arbitrary Keyword Arguments)**  \n",
        "- Allows a function to accept any number of **keyword arguments**.  \n",
        "- The arguments are stored in a **dictionary**.  \n",
        "- Useful for handling **optional or named parameters**.  "
      ],
      "metadata": {
        "id": "ySz0JNLiMZYG"
      }
    },
    {
      "cell_type": "code",
      "source": [
        "def print_details(**kwargs):\n",
        "    for key, value in kwargs.items():\n",
        "        print(f\"{key}: {value}\")\n",
        "\n",
        "print_details(name=\"Alice\", age=25, city=\"New York\")"
      ],
      "metadata": {
        "id": "vWOhH8XvMbUl"
      },
      "execution_count": null,
      "outputs": []
    },
    {
      "cell_type": "markdown",
      "source": [
        "### **c) Type Hints**  \n",
        "- Introduced in **Python 3.5+** to specify the expected **data types** of function arguments and return values.  \n",
        "- Helps in **code readability, debugging, and static type checking**.  "
      ],
      "metadata": {
        "id": "2rReQePYMeTL"
      }
    },
    {
      "cell_type": "code",
      "source": [
        "def add_numbers(a: int, b: int) -> int:\n",
        "    return a + b\n",
        "\n",
        "print(add_numbers(5, 3))  # Output: 8"
      ],
      "metadata": {
        "colab": {
          "base_uri": "https://localhost:8080/"
        },
        "id": "pjPmMo3UMhKY",
        "outputId": "7b323a59-8aac-4045-e631-eafb95c625e7"
      },
      "execution_count": null,
      "outputs": [
        {
          "output_type": "stream",
          "name": "stdout",
          "text": [
            "8\n"
          ]
        }
      ]
    },
    {
      "cell_type": "markdown",
      "source": [
        "\n",
        "### **d) Docstrings**  \n",
        "- **Multi-line comments** used to describe a function, class, or module.  \n",
        "- Written inside `\"\"\" \"\"\"` or `''' '''` immediately after the function/class definition.  \n",
        "- Can be accessed using `help(function_name)`.  "
      ],
      "metadata": {
        "id": "EAjUCNrtMlM7"
      }
    },
    {
      "cell_type": "code",
      "source": [
        "def greet(name: str) -> str:\n",
        "    \"\"\"\n",
        "    This function takes a name as input and returns a greeting message.\n",
        "\n",
        "    :param name: str - Name of the person\n",
        "    :return: str - Greeting message\n",
        "    \"\"\"\n",
        "    return f\"Hello, {name}!\"\n",
        "\n",
        "print(greet(\"John\"))\n",
        "# Output: Hello, John!\n",
        "\n",
        "help(greet)  # Displays the docstring"
      ],
      "metadata": {
        "colab": {
          "base_uri": "https://localhost:8080/"
        },
        "id": "clMK2BS8Mnxp",
        "outputId": "a9f7cba3-8106-4458-98a4-feee1937a426"
      },
      "execution_count": null,
      "outputs": [
        {
          "output_type": "stream",
          "name": "stdout",
          "text": [
            "Hello, John!\n",
            "Help on function greet in module __main__:\n",
            "\n",
            "greet(name: str) -> str\n",
            "    This function takes a name as input and returns a greeting message.\n",
            "    \n",
            "    :param name: str - Name of the person\n",
            "    :return: str - Greeting message\n",
            "\n"
          ]
        }
      ]
    },
    {
      "cell_type": "markdown",
      "source": [
        "\n",
        "# **OOPS in Python (Object-Oriented Programming)**\n",
        "\n",
        "- **OOP** represents real-world objects through `Classes` and `Objects`.\n",
        "- It provides principles like **Encapsulation, Abstraction, Inheritance, and Polymorphism**.\n",
        "\n",
        "## **OOP Concepts:**\n",
        "1. **Class**\n",
        "2. **Object**\n",
        "3. **Abstraction**\n",
        "4. **Encapsulation**\n",
        "5. **Inheritance**\n",
        "6. **Polymorphism**\n",
        "7. **Dynamic Binding**\n",
        "8. **Message Passing**\n",
        "\n",
        "### **1. Class**\n",
        "- A class is a blueprint for creating objects.\n",
        "- Contains attributes (variables) and methods (functions)."
      ],
      "metadata": {
        "id": "g3k0iY2nK8ar"
      }
    },
    {
      "cell_type": "code",
      "source": [
        "class Car:\n",
        "    def __init__(self, brand, model):\n",
        "        self.brand = brand\n",
        "        self.model = model\n",
        "\n",
        "    def show_details(self):\n",
        "        print(f\"Car: {self.brand} {self.model}\")"
      ],
      "metadata": {
        "id": "2RXyQ_sWTkYJ"
      },
      "execution_count": null,
      "outputs": []
    },
    {
      "cell_type": "markdown",
      "source": [
        "### **2. Object**\n",
        "- An instance of a class with unique data."
      ],
      "metadata": {
        "id": "c1Ak9BsFTw6Z"
      }
    },
    {
      "cell_type": "code",
      "source": [
        "car1 = Car(\"Toyota\", \"Corolla\")\n",
        "car1.show_details()"
      ],
      "metadata": {
        "id": "bS36Uq-jTyq3"
      },
      "execution_count": null,
      "outputs": []
    },
    {
      "cell_type": "markdown",
      "source": [
        "### **3. Abstraction**\n",
        "\n",
        "\n",
        "Abstraction is **hiding the unnecessary details** of an object and exposing only relevant information.  \n",
        "\n",
        "🔹 **Key Features**:\n",
        "- Uses **abstract classes and methods**.  \n",
        "- Focuses on **what an object does**, not how it does it.  \n",
        "- Implemented using the `ABC` module in Python.  \n",
        "- Hides implementation details and shows only essential features.\n",
        "\n",
        "📌 **Why Abstraction?**  \n",
        "✅ Reduces complexity by hiding implementation details.  \n",
        "✅ Focuses on **essential properties and behaviors**.  \n",
        "✅ Enforces **standardization** across subclasses.  "
      ],
      "metadata": {
        "id": "OJga6dKVT4l2"
      }
    },
    {
      "cell_type": "code",
      "source": [
        "from abc import ABC, abstractmethod\n",
        "\n",
        "class Animal(ABC):\n",
        "    @abstractmethod\n",
        "    def sound(self):\n",
        "        pass\n",
        "\n",
        "class Dog(Animal):\n",
        "    def sound(self):\n",
        "        return \"Bark\""
      ],
      "metadata": {
        "id": "h8beVPcdT0jX"
      },
      "execution_count": null,
      "outputs": []
    },
    {
      "cell_type": "markdown",
      "source": [
        "\n",
        "### **4. Encapsulation**\n",
        "- Wrapping data and methods into a single unit.\n",
        "- Uses private variables (`__var`).\n",
        "- Uses private (__) and protected (_) attributes.\n",
        "- Restricts direct modification of data.\n",
        "- Provides getter and setter methods to control access.\n",
        "\n",
        "Encapsulation is the practice of hiding the internal details of an object and only exposing necessary functionalities. This protects data from unintended modifications.\n",
        "\n",
        "\n",
        "📌 Why Encapsulation?\n",
        "- Protects sensitive data\n",
        ".\n",
        "- Prevents accidental modifications.\n",
        "\n",
        "- Improves data security and code maintainability."
      ],
      "metadata": {
        "id": "Q9xEMmv3T8rO"
      }
    },
    {
      "cell_type": "code",
      "source": [
        "class BankAccount:\n",
        "    def __init__(self, balance):\n",
        "        self.__balance = balance  # Private variable\n",
        "\n",
        "    def get_balance(self):\n",
        "        return self.__balance"
      ],
      "metadata": {
        "id": "jhsd1Ey5T-NM"
      },
      "execution_count": null,
      "outputs": []
    },
    {
      "cell_type": "markdown",
      "source": [
        "### **5. Inheritance**\n",
        "- Allows one class to inherit properties of another.\n",
        "\n",
        "Inheritance allows a class to acquire properties and behaviors from another class (**code reusability**).  \n",
        "\n",
        "🔹 **Types of Inheritance**:\n",
        "1️⃣ **Single Inheritance**  \n",
        "2️⃣ **Multiple Inheritance**  \n",
        "3️⃣ **Multilevel Inheritance**  \n",
        "4️⃣ **Hierarchical Inheritance**  \n",
        "5️⃣ **Hybrid Inheritance**  \n",
        "\n",
        "📌 **Why Inheritance?**  \n",
        "✅ Promotes **code reusability**.  \n",
        "✅ Establishes a **clear hierarchy**.  \n",
        "✅ Reduces redundancy.  "
      ],
      "metadata": {
        "id": "SVEFA2ruT_rP"
      }
    },
    {
      "cell_type": "code",
      "source": [
        "class Parent:\n",
        "    def feature1(self):\n",
        "        print(\"Feature 1\")\n",
        "\n",
        "class Child(Parent):\n",
        "    def feature2(self):\n",
        "        print(\"Feature 2\")\n",
        "\n",
        "child = Child()\n",
        "child.feature1()\n",
        "child.feature2()\n",
        "# Correct way to list methods excluding dunder methods\n",
        "methods = [method for method in dir(child) if not method.startswith(\"__\")]\n",
        "print(methods)"
      ],
      "metadata": {
        "colab": {
          "base_uri": "https://localhost:8080/"
        },
        "id": "aLZvS3BeUCZU",
        "outputId": "eda9ee72-a439-4e24-bd52-64d62b1e54d6"
      },
      "execution_count": 8,
      "outputs": [
        {
          "output_type": "stream",
          "name": "stdout",
          "text": [
            "Feature 1\n",
            "Feature 2\n",
            "['feature1', 'feature2']\n"
          ]
        }
      ]
    },
    {
      "cell_type": "markdown",
      "source": [
        "### **1️⃣ Single Inheritance**  \n",
        "One class inherits from another.  "
      ],
      "metadata": {
        "id": "aClTbf6faIDW"
      }
    },
    {
      "cell_type": "code",
      "source": [
        "class Parent:\n",
        "    def show(self):\n",
        "        return \"I am the parent class\"\n",
        "\n",
        "class Child(Parent):\n",
        "    def display(self):\n",
        "        return \"I am the child class\"\n",
        "\n",
        "c = Child()\n",
        "print(c.show())   # Output: I am the parent class\n",
        "print(c.display()) # Output: I am the child class"
      ],
      "metadata": {
        "id": "C5__z5x6hJjo"
      },
      "execution_count": null,
      "outputs": []
    },
    {
      "cell_type": "markdown",
      "source": [
        "### **2️⃣ Multiple Inheritance**  \n",
        "A child class inherits from **multiple parent classes**.  "
      ],
      "metadata": {
        "id": "SMt97HmWhS9T"
      }
    },
    {
      "cell_type": "code",
      "source": [
        "class Father:\n",
        "    def father_info(self):\n",
        "        return \"Father's characteristics\"\n",
        "\n",
        "class Mother:\n",
        "    def mother_info(self):\n",
        "        return \"Mother's characteristics\"\n",
        "\n",
        "class Child(Father, Mother):\n",
        "    def child_info(self):\n",
        "        return \"Child inherits from both parents\"\n",
        "\n",
        "c = Child()\n",
        "print(c.father_info())  # Output: Father's characteristics\n",
        "print(c.mother_info())  # Output: Mother's characteristics\n",
        "print(c.child_info())   # Output: Child inherits from both parents"
      ],
      "metadata": {
        "id": "BU1UXH7yhVpi"
      },
      "execution_count": null,
      "outputs": []
    },
    {
      "cell_type": "markdown",
      "source": [
        "### **3️⃣ Multilevel Inheritance**  \n",
        "A class inherits from another class, which itself inherits from another class (**Grandparent → Parent → Child**).  "
      ],
      "metadata": {
        "id": "GuaoNbwmhYcr"
      }
    },
    {
      "cell_type": "code",
      "source": [
        "class Grandparent:\n",
        "    def grandparent_info(self):\n",
        "        return \"I am the grandparent\"\n",
        "\n",
        "class Parent(Grandparent):\n",
        "    def parent_info(self):\n",
        "        return \"I am the parent\"\n",
        "\n",
        "class Child(Parent):\n",
        "    def child_info(self):\n",
        "        return \"I am the child\"\n",
        "\n",
        "c = Child()\n",
        "print(c.grandparent_info())  # Output: I am the grandparent\n",
        "print(c.parent_info())       # Output: I am the parent\n",
        "print(c.child_info())        # Output: I am the child"
      ],
      "metadata": {
        "id": "eLb96dehhvfH"
      },
      "execution_count": null,
      "outputs": []
    },
    {
      "cell_type": "markdown",
      "source": [
        "### **4️⃣ Hierarchical Inheritance**  \n",
        "Multiple child classes inherit from a **single parent class**.  "
      ],
      "metadata": {
        "id": "uCebgNTvhyi1"
      }
    },
    {
      "cell_type": "code",
      "source": [
        "class Parent:\n",
        "    def parent_info(self):\n",
        "        return \"I am the parent class\"\n",
        "\n",
        "class Child1(Parent):\n",
        "    def child1_info(self):\n",
        "        return \"I am the first child\"\n",
        "\n",
        "class Child2(Parent):\n",
        "    def child2_info(self):\n",
        "        return \"I am the second child\"\n",
        "\n",
        "c1 = Child1()\n",
        "c2 = Child2()\n",
        "\n",
        "print(c1.parent_info())  # Output: I am the parent class\n",
        "print(c1.child1_info())  # Output: I am the first child\n",
        "print(c2.child2_info())  # Output: I am the second child"
      ],
      "metadata": {
        "id": "PRnjx1KMh2m1"
      },
      "execution_count": null,
      "outputs": []
    },
    {
      "cell_type": "markdown",
      "source": [
        "### **5️⃣ Hybrid Inheritance**  \n",
        "A combination of **multiple inheritance types**.  "
      ],
      "metadata": {
        "id": "ePwEdRabiIz6"
      }
    },
    {
      "cell_type": "code",
      "source": [
        "class A:\n",
        "    def method_A(self):\n",
        "        return \"Method from A\"\n",
        "\n",
        "class B(A):\n",
        "    def method_B(self):\n",
        "        return \"Method from B\"\n",
        "\n",
        "class C(A):\n",
        "    def method_C(self):\n",
        "        return \"Method from C\"\n",
        "\n",
        "class D(B, C):\n",
        "    def method_D(self):\n",
        "        return \"Method from D\"\n",
        "\n",
        "d = D()\n",
        "print(d.method_A())  # Inherited from A\n",
        "print(d.method_B())  # Inherited from B\n",
        "print(d.method_C())  # Inherited from C\n",
        "print(d.method_D())  # From class D"
      ],
      "metadata": {
        "id": "9oSlfChBiRCn"
      },
      "execution_count": null,
      "outputs": []
    },
    {
      "cell_type": "markdown",
      "source": [
        "### **6. Polymorphism**\n",
        "- One method, different implementations."
      ],
      "metadata": {
        "id": "_7R1YJjEUoaN"
      }
    },
    {
      "cell_type": "code",
      "source": [
        "class Bird:\n",
        "    def sound(self):\n",
        "        return \"Chirp\"\n",
        "\n",
        "class Cat:\n",
        "    def sound(self):\n",
        "        return \"Meow\"\n",
        "\n",
        "animals = [Bird(), Cat()]\n",
        "for animal in animals:\n",
        "    print(animal.sound())"
      ],
      "metadata": {
        "id": "_9lVfELXUq3D"
      },
      "execution_count": null,
      "outputs": []
    },
    {
      "cell_type": "markdown",
      "source": [
        "### **7. Dynamic Binding**\n",
        "- Deciding method implementation at runtime.\n",
        "\n",
        "### **8. Message Passing**\n",
        "- Objects communicate by calling each other's methods.\n",
        "\n",
        "## **Key OOP Terms:**\n",
        "- **Class Variables (Static Variables)**: Defined outside `__init__` and shared by all instances.\n",
        "- **Instance Variables**: Defined inside `__init__` and unique to each instance.\n",
        "- **Methods:** Functions inside a class.\n",
        "  - **Instance Methods**: Operate on instance variables.\n",
        "  - **Class Methods** (`@classmethod`): Work at the class level.\n",
        "  - **Static Methods** (`@staticmethod`): Independent of class and instance variables."
      ],
      "metadata": {
        "id": "g29p2jCUUte1"
      }
    },
    {
      "cell_type": "code",
      "source": [
        "### **Example: Class, Instance, and Static Methods**\n",
        "class Employee:\n",
        "    company = \"TechCorp\"  # Class variable\n",
        "\n",
        "    def __init__(self, name, salary):\n",
        "        self.name = name  # Instance variable\n",
        "        self.salary = salary  # Instance variable\n",
        "\n",
        "    def show_details(self):  # Instance Method\n",
        "        print(f\"Name: {self.name}, Salary: {self.salary}\")\n",
        "\n",
        "    @classmethod\n",
        "    def change_company(cls, new_company):\n",
        "        cls.company = new_company\n",
        "\n",
        "    @staticmethod\n",
        "    def greet():\n",
        "        print(\"Welcome to the company!\")\n"
      ],
      "metadata": {
        "id": "zoNXcyJATkcc"
      },
      "execution_count": null,
      "outputs": []
    },
    {
      "cell_type": "markdown",
      "source": [
        "### **Inner Classes**\n",
        "- Classes defined inside other classes."
      ],
      "metadata": {
        "id": "C-wFX_VRU5E4"
      }
    },
    {
      "cell_type": "code",
      "source": [
        "class Outer:\n",
        "    class Inner:\n",
        "        def display(self):\n",
        "            print(\"Inner class method\")"
      ],
      "metadata": {
        "id": "gg1bBKFlU3Qm"
      },
      "execution_count": null,
      "outputs": []
    },
    {
      "cell_type": "markdown",
      "source": [
        "## **Why Use OOP?**\n",
        "1. **Modular Code**: Easier to manage and scale.\n",
        "2. **Encapsulation**: Protects data.\n",
        "3. **Reusability**: Reduces redundancy using Inheritance.\n",
        "4. **Flexibility**: Allows Polymorphism.\n",
        "5. **Real-World Modeling**: Mimics real-world scenarios.\n",
        "\n",
        "---\n",
        "\n",
        "## **Conclusion**\n",
        "- `*args` and `**kwargs` enable flexible function arguments.\n",
        "- Type hints improve readability.\n",
        "- Docstrings aid documentation.\n",
        "- OOP principles help in structuring large applications efficiently."
      ],
      "metadata": {
        "id": "Q3GS_88PU9gH"
      }
    },
    {
      "cell_type": "markdown",
      "source": [
        "## **Method Resolution Order (MRO)**\n",
        "- Python follows **Method Resolution Order (MRO)** when searching for methods in a class hierarchy.\n",
        "- In **multiple inheritance**, MRO determines the order in which classes are searched for methods."
      ],
      "metadata": {
        "id": "d5kUWDjzVijX"
      }
    },
    {
      "cell_type": "code",
      "source": [
        "class A:\n",
        "    def rk(self):\n",
        "        print(\"In class A\")\n",
        "\n",
        "class B(A):\n",
        "    def rk(self):\n",
        "        print(\"In class B\")\n",
        "\n",
        "class C(A):\n",
        "    def rk(self):\n",
        "        print(\"In class C\")\n",
        "\n",
        "class D(B, C):  # Multiple Inheritance (Diamond problem)\n",
        "    pass\n",
        "\n",
        "r = D()\n",
        "r.rk()  # Output: In class B"
      ],
      "metadata": {
        "id": "qQc0hSUoU88k"
      },
      "execution_count": null,
      "outputs": []
    },
    {
      "cell_type": "markdown",
      "source": [
        "- **MRO follows**: `D -> B -> C -> A`\n"
      ],
      "metadata": {
        "id": "ZFteWTrBVouR"
      }
    },
    {
      "cell_type": "markdown",
      "source": [
        "## **Polymorphism**\n",
        "- **Definition**: \"One thing with multiple forms.\""
      ],
      "metadata": {
        "id": "keKkvioaVr0W"
      }
    },
    {
      "cell_type": "code",
      "source": [
        "class Duck:\n",
        "    def quack(self):\n",
        "        print(\"Quack!\")\n",
        "\n",
        "class Person:\n",
        "    def quack(self):\n",
        "        print(\"The person imitates a duck: Quack!\")\n",
        "\n",
        "def make_it_quack(obj):\n",
        "    obj.quack()\n",
        "\n",
        "duck = Duck()\n",
        "person = Person()\n",
        "\n",
        "make_it_quack(duck)    # Output: Quack!\n",
        "make_it_quack(person)  # Output: The person imitates a duck: Quack!"
      ],
      "metadata": {
        "id": "Mj2HhLFYVuFW"
      },
      "execution_count": null,
      "outputs": []
    },
    {
      "cell_type": "markdown",
      "source": [
        "### **Duck Typing**\n",
        "- \"If it looks like a duck and quacks like a duck, it must be a duck.\"\n",
        "- In Python, **objects are defined by behavior rather than type.**\n",
        "- **Python is dynamically typed**: Type of a variable is determined at runtime."
      ],
      "metadata": {
        "id": "NHe73jlsVylF"
      }
    },
    {
      "cell_type": "markdown",
      "source": [
        "## **Operator Overloading**\n",
        "- Allows built-in operators (`+`, `-`, `*`, etc.) to be **redefined for user-defined classes**.\n",
        "- Uses **special methods (dunder methods)**:"
      ],
      "metadata": {
        "id": "zF981-J_V2B_"
      }
    },
    {
      "cell_type": "code",
      "source": [
        "class Point:\n",
        "    def __init__(self, x, y):\n",
        "        self.x = x\n",
        "        self.y = y\n",
        "\n",
        "    def __add__(self, other):  # Overloading +\n",
        "        return Point(self.x + other.x, self.y + other.y)\n",
        "\n",
        "    def __str__(self):\n",
        "        return f\"({self.x}, {self.y})\"\n",
        "\n",
        "p1 = Point(1, 2)\n",
        "p2 = Point(3, 4)\n",
        "p3 = p1 + p2  # Calls __add__()\n",
        "print(p3)  # Output: (4, 6)"
      ],
      "metadata": {
        "id": "OSZQtLopV5h-"
      },
      "execution_count": null,
      "outputs": []
    },
    {
      "cell_type": "markdown",
      "source": [
        "- **Common Dunder Methods**:\n",
        "  - `__add__` → `+`\n",
        "  - `__sub__` → `-`\n",
        "  - `__mul__` → `*`\n",
        "  - `__eq__` → `==`\n",
        "  - `__lt__` → `<`\n",
        "  - `__gt__` → `>`"
      ],
      "metadata": {
        "id": "DUYOpH9FV9Ej"
      }
    },
    {
      "cell_type": "markdown",
      "source": [
        "## **Method Overloading**\n",
        "- Python **does not support traditional method overloading** (multiple methods with the same name but different parameters).\n",
        "- Instead, **default arguments and `*args, **kwargs`** allow flexible method calls."
      ],
      "metadata": {
        "id": "jmsiu_lxWEFL"
      }
    },
    {
      "cell_type": "code",
      "source": [
        "class Calculator:\n",
        "    def add(self, a, b=None, c=None):\n",
        "        if b is not None and c is not None:\n",
        "            return a + b + c\n",
        "        elif b is not None:\n",
        "            return a + b\n",
        "        else:\n",
        "            return a\n",
        "\n",
        "calc = Calculator()\n",
        "print(calc.add(5))         # Output: 5\n",
        "print(calc.add(5, 10))     # Output: 15\n",
        "print(calc.add(5, 10, 15)) # Output: 30"
      ],
      "metadata": {
        "id": "zAAbgqwOWJhX"
      },
      "execution_count": null,
      "outputs": []
    },
    {
      "cell_type": "markdown",
      "source": [
        "## **Method Overriding**\n",
        "- **A subclass provides a new implementation** for a method already defined in the superclass."
      ],
      "metadata": {
        "id": "3skvRdgVWRcv"
      }
    },
    {
      "cell_type": "code",
      "source": [
        "class Animal:\n",
        "    def make_sound(self):\n",
        "        print(\"Generic animal sound\")\n",
        "\n",
        "class Dog(Animal):\n",
        "    def make_sound(self):\n",
        "        print(\"Woof!\")\n",
        "\n",
        "class Cat(Animal):\n",
        "    def make_sound(self):\n",
        "        print(\"Meow!\")\n",
        "\n",
        "dog = Dog()\n",
        "cat = Cat()\n",
        "\n",
        "dog.make_sound()  # Output: Woof!\n",
        "cat.make_sound()  # Output: Meow!"
      ],
      "metadata": {
        "id": "pOMG5SUUWNOp"
      },
      "execution_count": null,
      "outputs": []
    },
    {
      "cell_type": "markdown",
      "source": [
        "- **Using `super()` to call parent class method**:\n"
      ],
      "metadata": {
        "id": "SY3lGA_NWXtE"
      }
    },
    {
      "cell_type": "code",
      "source": [
        "class Vehicle:\n",
        "    def start(self):\n",
        "        print(\"Vehicle started\")\n",
        "\n",
        "class Car(Vehicle):\n",
        "    def start(self):\n",
        "        super().start()\n",
        "        print(\"Car started\")\n",
        "\n",
        "my_car = Car()\n",
        "my_car.start()"
      ],
      "metadata": {
        "id": "q6iEu380WVbE"
      },
      "execution_count": null,
      "outputs": []
    },
    {
      "cell_type": "markdown",
      "source": [
        "## **Iterators & Generators**\n",
        "### **Iterators**\n",
        "- Objects that implement `__iter__()` and `__next__()`\n",
        "- Used to iterate over a sequence **without storing all elements in memory**.\n",
        "\n",
        "- **Raises `StopIteration` when there are no more elements.**\n"
      ],
      "metadata": {
        "id": "GCpw1KCcWgYc"
      }
    },
    {
      "cell_type": "code",
      "source": [
        "my_list = [1, 2, 3]\n",
        "my_iter = iter(my_list)\n",
        "\n",
        "print(next(my_iter))  # Output: 1\n",
        "print(next(my_iter))  # Output: 2\n",
        "print(next(my_iter))  # Output: 3"
      ],
      "metadata": {
        "id": "OFEQ0JnsWk3s"
      },
      "execution_count": null,
      "outputs": []
    },
    {
      "cell_type": "markdown",
      "source": [],
      "metadata": {
        "id": "ahBsWZ-LWm4V"
      }
    },
    {
      "cell_type": "markdown",
      "source": [
        "### **Generators**\n",
        "- **Use `yield` instead of `return`**.\n",
        "- They **pause execution** and resume where they left off.\n",
        "\n",
        "- **Advantage**: Saves memory and improves performance.\n",
        "\n"
      ],
      "metadata": {
        "id": "Yp9o8hwyWphP"
      }
    },
    {
      "cell_type": "code",
      "source": [
        "def my_generator():\n",
        "    yield 1\n",
        "    yield 2\n",
        "    yield 3\n",
        "\n",
        "gen = my_generator()\n",
        "print(next(gen))  # Output: 1\n",
        "print(next(gen))  # Output: 2\n",
        "print(next(gen))  # Output: 3"
      ],
      "metadata": {
        "id": "Jeg3J8Y2WsMb"
      },
      "execution_count": null,
      "outputs": []
    },
    {
      "cell_type": "markdown",
      "source": [
        "## **Encapsulation & Abstraction**\n",
        "- **Encapsulation**: Wrapping data & methods into a single unit (**class**).\n",
        "- **Abstraction**: Hiding implementation details, exposing only essential features."
      ],
      "metadata": {
        "id": "R8SBNE4vWrcD"
      }
    },
    {
      "cell_type": "code",
      "source": [
        "class BankAccount:\n",
        "    def __init__(self, balance):\n",
        "        self.__balance = balance  # Private variable\n",
        "\n",
        "    def deposit(self, amount):\n",
        "        self.__balance += amount\n",
        "\n",
        "    def get_balance(self):\n",
        "        return self.__balance\n",
        "\n",
        "acc = BankAccount(1000)\n",
        "acc.deposit(500)\n",
        "print(acc.get_balance())  # Output: 1500"
      ],
      "metadata": {
        "id": "2GAOxFXQW9CY"
      },
      "execution_count": null,
      "outputs": []
    },
    {
      "cell_type": "markdown",
      "source": [
        "\n",
        "| Concept               | Description |\n",
        "|----------------------|-------------|\n",
        "| **MRO (Method Resolution Order)** | Defines the method search order in multiple inheritance |\n",
        "| **Polymorphism** | One function works on multiple object types |\n",
        "| **Duck Typing** | Type is determined by behavior, not inheritance |\n",
        "| **Operator Overloading** | Redefining operators for user-defined objects |\n",
        "| **Method Overloading** | Not natively supported in Python; handled via `*args` and `**kwargs` |\n",
        "| **Method Overriding** | Subclass redefines a parent class method |\n",
        "| **Iterators** | Objects implementing `__iter__()` and `__next__()` |\n",
        "| **Generators** | Functions using `yield` to produce a sequence of values |\n",
        "| **Encapsulation** | Hiding data within a class |\n",
        "| **Abstraction** | Hiding implementation details |\n",
        "\n",
        "\n",
        " # **Object-Oriented Programming (OOP) Methods**\n",
        "OOP revolves around four key principles: **Encapsulation, Abstraction, Inheritance, and Polymorphism.** The following methods play a crucial role in implementing these principles.\n"
      ],
      "metadata": {
        "id": "RUdNACzMXA2S"
      }
    },
    {
      "cell_type": "markdown",
      "source": [
        "## **1. Instance Methods**\n",
        "### 🔹 Definition:  \n",
        "Instance methods are methods that operate on an instance of a class. They can access and modify instance variables.\n",
        "\n",
        "### 🔹 Characteristics:\n",
        "- Takes `self` as the first parameter.\n",
        "- Can access and modify instance variables.\n",
        "- Can call other instance methods."
      ],
      "metadata": {
        "id": "vWQRrYjRYjf7"
      }
    },
    {
      "cell_type": "code",
      "source": [
        "class Car:\n",
        "    def __init__(self, brand, model):\n",
        "        self.brand = brand\n",
        "        self.model = model\n",
        "\n",
        "    def show_details(self):  # Instance Method\n",
        "        return f\"Car: {self.brand} {self.model}\"\n",
        "\n",
        "car1 = Car(\"Toyota\", \"Corolla\")\n",
        "print(car1.show_details())  # Output: Car: Toyota Corolla"
      ],
      "metadata": {
        "id": "V2bWHSEAYg4J"
      },
      "execution_count": null,
      "outputs": []
    },
    {
      "cell_type": "markdown",
      "source": [
        "## **2. Class Methods (`@classmethod`)**\n",
        "### 🔹 Definition:\n",
        "Class methods work on the class itself rather than instances. They are defined using the `@classmethod` decorator.\n",
        "\n",
        "### 🔹 Characteristics:\n",
        "- Takes `cls` as the first parameter (refers to the class).\n",
        "- Can access and modify class variables.\n",
        "- Cannot modify instance variables."
      ],
      "metadata": {
        "id": "3CFsah9sYfhj"
      }
    },
    {
      "cell_type": "code",
      "source": [
        "class Car:\n",
        "    total_cars = 0  # Class Variable\n",
        "\n",
        "    def __init__(self, brand, model):\n",
        "        self.brand = brand\n",
        "        self.model = model\n",
        "        Car.total_cars += 1  # Modify class variable\n",
        "\n",
        "    @classmethod\n",
        "    def get_total_cars(cls):\n",
        "        return f\"Total Cars: {cls.total_cars}\"\n",
        "\n",
        "car1 = Car(\"Honda\", \"Civic\")\n",
        "car2 = Car(\"Ford\", \"Mustang\")\n",
        "\n",
        "print(Car.get_total_cars())  # Output: Total Cars: 2"
      ],
      "metadata": {
        "id": "Ok62sFyEYbn-"
      },
      "execution_count": null,
      "outputs": []
    },
    {
      "cell_type": "markdown",
      "source": [
        "\n",
        "## **3. Static Methods (`@staticmethod`)**\n",
        "### 🔹 Definition:\n",
        "Static methods do not operate on an instance or a class. They behave like regular functions but are part of a class.\n",
        "\n",
        "### 🔹 Characteristics:\n",
        "- No `self` or `cls` parameter.\n",
        "- Cannot modify class or instance variables.\n",
        "- Used when logic is related to a class but does not require instance data.\n"
      ],
      "metadata": {
        "id": "MjBWbMFCYYlN"
      }
    },
    {
      "cell_type": "code",
      "source": [
        "class MathOperations:\n",
        "    @staticmethod\n",
        "    def add(x, y):\n",
        "        return x + y\n",
        "\n",
        "print(MathOperations.add(5, 10))  # Output: 15"
      ],
      "metadata": {
        "id": "oOG-4rdaYUkH"
      },
      "execution_count": null,
      "outputs": []
    },
    {
      "cell_type": "markdown",
      "source": [
        "## **4. Special (Magic) Methods (`__init__`, `__str__`, `__repr__`, etc.)**\n",
        "### 🔹 Definition:\n",
        "Special methods (also called dunder methods) have double underscores (`__`) before and after their names. They define object behaviors like initialization, string representation, and arithmetic operations.\n",
        "\n",
        "### 🔹 Important Special Methods:\n",
        "| Method | Description |\n",
        "|--------|-------------|\n",
        "| `__init__` | Constructor (initializes an object) |\n",
        "| `__str__` | Returns a user-friendly string representation |\n",
        "| `__repr__` | Returns an official string representation |\n",
        "| `__len__` | Returns the length of an object |\n",
        "| `__add__` | Overloads `+` operator |\n",
        "| `__eq__` | Overloads `==` operator |"
      ],
      "metadata": {
        "id": "OKIRmy3_YQ26"
      }
    },
    {
      "cell_type": "code",
      "source": [
        "class Book:\n",
        "    def __init__(self, title, author):\n",
        "        self.title = title\n",
        "        self.author = author\n",
        "\n",
        "    def __str__(self):  # User-friendly representation\n",
        "        return f\"Book: {self.title} by {self.author}\"\n",
        "\n",
        "    def __repr__(self):  # Official representation\n",
        "        return f\"Book('{self.title}', '{self.author}')\"\n",
        "\n",
        "book1 = Book(\"Python Basics\", \"John Doe\")\n",
        "print(str(book1))   # Output: Book: Python Basics by John Doe\n",
        "print(repr(book1))  # Output: Book('Python Basics', 'John Doe')"
      ],
      "metadata": {
        "id": "qwa6R_qtYO9_"
      },
      "execution_count": null,
      "outputs": []
    },
    {
      "cell_type": "markdown",
      "source": [
        "## **5. Getter and Setter Methods (`@property`)**\n",
        "### 🔹 Definition:\n",
        "Getter and setter methods control access to private variables.\n",
        "\n",
        "### 🔹 Characteristics:\n",
        "- **Getters (`@property`)**: Allow read access to private attributes.\n",
        "- **Setters (`@attribute_name.setter`)**: Allow controlled modification of attributes.\n"
      ],
      "metadata": {
        "id": "NaNcWkjJYNnE"
      }
    },
    {
      "cell_type": "code",
      "source": [
        "class Person:\n",
        "    def __init__(self, name, age):\n",
        "        self._age = age  # Private Variable\n",
        "\n",
        "    @property\n",
        "    def age(self):  # Getter\n",
        "        return self._age\n",
        "\n",
        "    @age.setter\n",
        "    def age(self, new_age):  # Setter\n",
        "        if new_age > 0:\n",
        "            self._age = new_age\n",
        "        else:\n",
        "            raise ValueError(\"Age must be positive\")\n",
        "\n",
        "p = Person(\"Alice\", 25)\n",
        "print(p.age)  # Output: 25\n",
        "p.age = 30    # Updates age\n",
        "print(p.age)  # Output: 30"
      ],
      "metadata": {
        "id": "bZbdGLogYMAb"
      },
      "execution_count": null,
      "outputs": []
    },
    {
      "cell_type": "markdown",
      "source": [
        "## **6. Abstract Methods (`@abstractmethod`)**\n",
        "### 🔹 Definition:\n",
        "Abstract methods define a method that must be implemented in subclasses.\n",
        "\n",
        "### 🔹 Characteristics:\n",
        "- Declared using `@abstractmethod`.\n",
        "- Must be defined in an abstract class (`ABC`).\n",
        "- Forces child classes to implement the method."
      ],
      "metadata": {
        "id": "_3109f7uYGWw"
      }
    },
    {
      "cell_type": "code",
      "source": [
        "from abc import ABC, abstractmethod\n",
        "\n",
        "class Animal(ABC):\n",
        "    @abstractmethod\n",
        "    def make_sound(self):\n",
        "        pass\n",
        "\n",
        "class Dog(Animal):\n",
        "    def make_sound(self):\n",
        "        return \"Woof!\"\n",
        "\n",
        "dog = Dog()\n",
        "print(dog.make_sound())  # Output: Woof!"
      ],
      "metadata": {
        "id": "DD8P_MSzYEab"
      },
      "execution_count": null,
      "outputs": []
    },
    {
      "cell_type": "markdown",
      "source": [
        "## **7. Operator Overloading Methods (`__add__`, `__sub__`, etc.)**\n",
        "### 🔹 Definition:\n",
        "Operator overloading allows using built-in operators (`+`, `-`, `*`, etc.) with user-defined objects."
      ],
      "metadata": {
        "id": "gYHDUqU0YC07"
      }
    },
    {
      "cell_type": "code",
      "source": [
        "class Vector:\n",
        "    def __init__(self, x, y):\n",
        "        self.x = x\n",
        "        self.y = y\n",
        "\n",
        "    def __add__(self, other):  # Overloading `+`\n",
        "        return Vector(self.x + other.x, self.y + other.y)\n",
        "\n",
        "    def __str__(self):\n",
        "        return f\"Vector({self.x}, {self.y})\"\n",
        "\n",
        "v1 = Vector(2, 3)\n",
        "v2 = Vector(4, 5)\n",
        "v3 = v1 + v2\n",
        "print(v3)  # Output: Vector(6, 8)"
      ],
      "metadata": {
        "id": "6xKBSXrGYBas"
      },
      "execution_count": null,
      "outputs": []
    },
    {
      "cell_type": "markdown",
      "source": [
        "## **8. Private and Public Methods**\n",
        "### 🔹 Public Methods:\n",
        "- Can be accessed anywhere.\n",
        "- Defined normally.\n",
        "\n",
        "### 🔹 Private Methods (`__method_name`):\n",
        "- Indicated with a double underscore (`__`).\n",
        "- Cannot be accessed outside the class."
      ],
      "metadata": {
        "id": "b5_M-QPoX-wV"
      }
    },
    {
      "cell_type": "code",
      "source": [
        "class Sample:\n",
        "    def public_method(self):\n",
        "        return \"This is a public method\"\n",
        "\n",
        "    def __private_method(self):\n",
        "        return \"This is a private method\"\n",
        "\n",
        "s = Sample()\n",
        "print(s.public_method())  # Output: This is a public method\n",
        "# print(s.__private_method())  # ❌ AttributeError"
      ],
      "metadata": {
        "id": "mbeR5Q_VX5Yn"
      },
      "execution_count": null,
      "outputs": []
    },
    {
      "cell_type": "markdown",
      "source": [
        "## **9. Class Constructor and Destructor**\n",
        "### 🔹 Constructor (`__init__`):\n",
        "Initializes an object.\n",
        "\n",
        "### 🔹 Destructor (`__del__`):\n",
        "Automatically called when an object is deleted."
      ],
      "metadata": {
        "id": "rIi8rjHHX2Nh"
      }
    },
    {
      "cell_type": "code",
      "source": [
        "class Test:\n",
        "    def __init__(self):\n",
        "        print(\"Object Created\")\n",
        "\n",
        "    def __del__(self):\n",
        "        print(\"Object Destroyed\")\n",
        "\n",
        "t = Test()\n",
        "del t  # Output: Object Destroyed"
      ],
      "metadata": {
        "id": "unTpSXJxXyeU"
      },
      "execution_count": null,
      "outputs": []
    },
    {
      "cell_type": "markdown",
      "source": [
        "# **Conclusion**\n",
        "- **Instance Methods** → Work with object attributes.  \n",
        "- **Class Methods** → Work with class attributes.  \n",
        "- **Static Methods** → Independent methods inside a class.  \n",
        "- **Special Methods** → Enable advanced behaviors like initialization and operator overloading.  \n",
        "- **Getter & Setter Methods** → Control access to private variables.  \n",
        "- **Abstract Methods** → Enforce implementation in subclasses.  \n",
        "- **Operator Overloading** → Define custom behavior for operators.  \n",
        "- **Private Methods** → Restrict access within the class.  \n",
        "- **Destructor** → Cleans up resources when an object is deleted.  "
      ],
      "metadata": {
        "id": "EY40rN0aXyxz"
      }
    },
    {
      "cell_type": "code",
      "source": [],
      "metadata": {
        "id": "WQV6KdxWVeto"
      },
      "execution_count": null,
      "outputs": []
    }
  ]
}